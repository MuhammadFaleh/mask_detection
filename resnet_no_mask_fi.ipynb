{
 "cells": [
  {
   "cell_type": "code",
   "execution_count": 1,
   "id": "aac14555",
   "metadata": {},
   "outputs": [],
   "source": [
    "import pandas as pd\n",
    "import numpy as np\n",
    "import torch\n",
    "from torch import nn\n",
    "from torchvision import datasets\n",
    "from torch.utils.data import DataLoader\n",
    "from torch.utils.data import Dataset\n",
    "import torch.utils.checkpoint\n",
    "\n",
    "from sklearn.metrics import accuracy_score\n",
    "from sklearn.metrics import f1_score\n",
    "from sklearn.metrics import confusion_matrix\n",
    "import seaborn as sns\n",
    "import matplotlib.ticker as mtick \n",
    "import matplotlib.pyplot as plt\n",
    "\n",
    "\n",
    "from imblearn.metrics import classification_report_imbalanced\n",
    "from sklearn.metrics import precision_score, recall_score, f1_score, roc_auc_score, accuracy_score, classification_report\n",
    "\n",
    "\n",
    "import torchvision.transforms as transforms\n",
    "from torchvision.models.detection.faster_rcnn import FastRCNNPredictor\n",
    "from torchvision import models\n",
    "from torchvision.io import read_image\n",
    "from torchvision.io import write_png\n",
    "from torchvision.io import ImageReadMode\n",
    "import torchvision.transforms.functional as transform_fun\n",
    "from torchvision.datasets import ImageFolder\n",
    "# from keras.preprocessing.image import ImageDataGenerator\n",
    "# from keras.preprocessing.image import img_to_array\n",
    "from torchvision.utils import save_image\n",
    "import glob\n",
    "import data_loader as DL\n",
    "import os, shutil\n",
    "import cv2\n",
    "import torchvision\n",
    "import matplotlib.pyplot as plt\n",
    "import json"
   ]
  },
  {
   "cell_type": "code",
   "execution_count": 2,
   "id": "954a76d2",
   "metadata": {},
   "outputs": [
    {
     "data": {
      "text/plain": [
       "'cuda'"
      ]
     },
     "execution_count": 2,
     "metadata": {},
     "output_type": "execute_result"
    }
   ],
   "source": [
    "device = 'cuda' if torch.cuda.is_available() else  'cpu'\n",
    "device"
   ]
  },
  {
   "cell_type": "code",
   "execution_count": 18,
   "id": "1873fc90",
   "metadata": {},
   "outputs": [],
   "source": [
    "# for if gpu mem is full\n",
    "import torch\n",
    "\n",
    "from numba import cuda\n",
    "\n",
    "def free_gpu_cache():\n",
    "\n",
    "\n",
    "    torch.cuda.empty_cache()\n",
    "\n",
    "    cuda.select_device(0)\n",
    "    cuda.close()\n",
    "    cuda.select_device(0)\n",
    "\n",
    "\n",
    "free_gpu_cache()  "
   ]
  },
  {
   "cell_type": "code",
   "execution_count": 3,
   "id": "82338ed8",
   "metadata": {},
   "outputs": [],
   "source": [
    "masked_path_test = 'raw/test/Masked/*.png'\n",
    "Nomask_path_test ='raw/test/Nomask/*.png'\n",
    "\n",
    "\n",
    "masked_path_train = 'raw/train/Masked/*'\n",
    "Nomask_path_train ='raw/train/Nomask/*'"
   ]
  },
  {
   "cell_type": "code",
   "execution_count": 4,
   "id": "67e29f3d",
   "metadata": {},
   "outputs": [],
   "source": [
    "stand_train_masked = 'Train_std/masked' \n",
    "stand_train_Nomask = 'Train_std/Nomask' "
   ]
  },
  {
   "cell_type": "code",
   "execution_count": 5,
   "id": "6df7cac8",
   "metadata": {},
   "outputs": [],
   "source": [
    "train_path = 'Train_std'\n",
    "test_path = 'test2'\n"
   ]
  },
  {
   "cell_type": "markdown",
   "id": "4af02d6c",
   "metadata": {},
   "source": [
    "## class distribution"
   ]
  },
  {
   "cell_type": "code",
   "execution_count": 6,
   "id": "3ac57d02",
   "metadata": {},
   "outputs": [],
   "source": [
    "# get the paths into a list\n",
    "list_mask_paths = glob.glob(masked_path_train)\n",
    "list_Nomask_paths = glob.glob(Nomask_path_train)"
   ]
  },
  {
   "cell_type": "code",
   "execution_count": 7,
   "id": "9465ccff",
   "metadata": {},
   "outputs": [
    {
     "data": {
      "image/png": "[encoded data removed]",
      "text/plain": [
       "<Figure size 640x480 with 1 Axes>"
      ]
     },
     "metadata": {},
     "output_type": "display_data"
    }
   ],
   "source": [
    "fig = plt.figure()\n",
    "ax = fig.add_axes([0,0,1,1])\n",
    "\n",
    "list_names = ['Mask','No Mask']\n",
    "data = [len(list_mask_paths) ,len(list_Nomask_paths)]\n",
    "\n",
    "ax.bar(list_names,data,color=['blue', 'green'])\n",
    "\n",
    "plt.show()"
   ]
  },
  {
   "cell_type": "code",
   "execution_count": 8,
   "id": "206c51ef",
   "metadata": {},
   "outputs": [
    {
     "data": {
      "text/plain": [
       "(3539, 3589)"
      ]
     },
     "execution_count": 8,
     "metadata": {},
     "output_type": "execute_result"
    }
   ],
   "source": [
    "len(list_mask_paths) , len(list_Nomask_paths)"
   ]
  },
  {
   "cell_type": "markdown",
   "id": "ceeb6a23",
   "metadata": {},
   "source": [
    "we can see that the dataset balanced we don't need to balance it , but we need to resize it and to augment it"
   ]
  },
  {
   "cell_type": "markdown",
   "id": "7b5b37a4",
   "metadata": {},
   "source": [
    "## data augment / resizing"
   ]
  },
  {
   "cell_type": "code",
   "execution_count": 27,
   "id": "f673b147",
   "metadata": {},
   "outputs": [],
   "source": [
    "def move_files(path,Npath):\n",
    "    if not os.path.exists(Npath):\n",
    "        os.makedirs(Npath)\n",
    "    \n",
    "    for file in path:\n",
    "        try:\n",
    "            os.rename(file, Npath+'/'+file[22:])\n",
    "        except:\n",
    "            pass"
   ]
  },
  {
   "cell_type": "code",
   "execution_count": 104,
   "id": "905f453f",
   "metadata": {},
   "outputs": [],
   "source": [
    "def resize(path,Npath,size):\n",
    "    aug = torch.nn.Sequential(\n",
    "        transforms.Resize((size,size)),\n",
    "        transforms.ColorJitter(brightness=0.5),\n",
    "        transforms.RandomHorizontalFlip(p=0.25),\n",
    "        transforms.RandomGrayscale(p=0.1),\n",
    "        transforms.RandomInvert(p=0.1),\n",
    "        transforms.RandomEqualize(p=0.1),\n",
    "        transforms.RandomPosterize(p=0.1,bits=8)\n",
    "    )\n",
    "    i = 1\n",
    "    transform = transforms.Compose([transforms.ToPILImage()])\n",
    "    transform2 = transforms.Compose([transforms.ToTensor()])\n",
    "\n",
    "    for file in path:\n",
    "        img = read_image(path=file, mode=ImageReadMode.RGB)\n",
    "        img = transform(img)\n",
    "        X = aug(img)\n",
    "        save_image(transform2(X).to(torch.float),fp=Npath+'/'+'__'+str(i)+'__.png')\n",
    "        i+=1"
   ]
  },
  {
   "cell_type": "code",
   "execution_count": 108,
   "id": "4e099b60",
   "metadata": {},
   "outputs": [],
   "source": [
    "resize(glob.glob(masked_path_train),stand_train_masked,224)\n",
    "resize(glob.glob(Nomask_path_train),stand_train_Nomask,224)\n",
    "# resize(glob.glob('ready/ready/*.png'),stand_train_Nomask,224)"
   ]
  },
  {
   "cell_type": "markdown",
   "id": "8fa487f2",
   "metadata": {},
   "source": [
    "## Data loading"
   ]
  },
  {
   "cell_type": "code",
   "execution_count": 6,
   "id": "52a3de2b",
   "metadata": {},
   "outputs": [],
   "source": [
    "transform = transforms.Compose([\n",
    "\n",
    "    transforms.ToTensor(),\n",
    "\n",
    "])\n",
    "\n",
    "train_data = ImageFolder(root=train_path, transform= transform)\n",
    "\n",
    "test_data = ImageFolder(root=test_path, transform= transform)"
   ]
  },
  {
   "cell_type": "code",
   "execution_count": 7,
   "id": "06b21eb1",
   "metadata": {},
   "outputs": [],
   "source": [
    "train_data_load2 = DL.data_loader(train_data, 100,True)\n",
    "test_data_load2 = DL.data_loader(test_data,100,False)\n"
   ]
  },
  {
   "cell_type": "markdown",
   "id": "ec0d1455",
   "metadata": {},
   "source": [
    "## model loading"
   ]
  },
  {
   "cell_type": "markdown",
   "id": "643d0bbe",
   "metadata": {},
   "source": [
    "this is a pretrained resnet50 we would only need to tune it but first let's change the output of the classifer layer to fit our case"
   ]
  },
  {
   "cell_type": "code",
   "execution_count": 8,
   "id": "918c8c53",
   "metadata": {},
   "outputs": [
    {
     "name": "stdout",
     "output_type": "stream",
     "text": [
      "ResNet(\n",
      "  (conv1): Conv2d(3, 64, kernel_size=(7, 7), stride=(2, 2), padding=(3, 3), bias=False)\n",
      "  (bn1): BatchNorm2d(64, eps=1e-05, momentum=0.1, affine=True, track_running_stats=True)\n",
      "  (relu): ReLU(inplace=True)\n",
      "  (maxpool): MaxPool2d(kernel_size=3, stride=2, padding=1, dilation=1, ceil_mode=False)\n",
      "  (layer1): Sequential(\n",
      "    (0): Bottleneck(\n",
      "      (conv1): Conv2d(64, 64, kernel_size=(1, 1), stride=(1, 1), bias=False)\n",
      "      (bn1): BatchNorm2d(64, eps=1e-05, momentum=0.1, affine=True, track_running_stats=True)\n",
      "      (conv2): Conv2d(64, 64, kernel_size=(3, 3), stride=(1, 1), padding=(1, 1), bias=False)\n",
      "      (bn2): BatchNorm2d(64, eps=1e-05, momentum=0.1, affine=True, track_running_stats=True)\n",
      "      (conv3): Conv2d(64, 256, kernel_size=(1, 1), stride=(1, 1), bias=False)\n",
      "      (bn3): BatchNorm2d(256, eps=1e-05, momentum=0.1, affine=True, track_running_stats=True)\n",
      "      (relu): ReLU(inplace=True)\n",
      "      (downsample): Sequential(\n",
      "        (0): Conv2d(64, 256, kernel_size=(1, 1), stride=(1, 1), bias=False)\n",
      "        (1): BatchNorm2d(256, eps=1e-05, momentum=0.1, affine=True, track_running_stats=True)\n",
      "      )\n",
      "    )\n",
      "    (1): Bottleneck(\n",
      "      (conv1): Conv2d(256, 64, kernel_size=(1, 1), stride=(1, 1), bias=False)\n",
      "      (bn1): BatchNorm2d(64, eps=1e-05, momentum=0.1, affine=True, track_running_stats=True)\n",
      "      (conv2): Conv2d(64, 64, kernel_size=(3, 3), stride=(1, 1), padding=(1, 1), bias=False)\n",
      "      (bn2): BatchNorm2d(64, eps=1e-05, momentum=0.1, affine=True, track_running_stats=True)\n",
      "      (conv3): Conv2d(64, 256, kernel_size=(1, 1), stride=(1, 1), bias=False)\n",
      "      (bn3): BatchNorm2d(256, eps=1e-05, momentum=0.1, affine=True, track_running_stats=True)\n",
      "      (relu): ReLU(inplace=True)\n",
      "    )\n",
      "    (2): Bottleneck(\n",
      "      (conv1): Conv2d(256, 64, kernel_size=(1, 1), stride=(1, 1), bias=False)\n",
      "      (bn1): BatchNorm2d(64, eps=1e-05, momentum=0.1, affine=True, track_running_stats=True)\n",
      "      (conv2): Conv2d(64, 64, kernel_size=(3, 3), stride=(1, 1), padding=(1, 1), bias=False)\n",
      "      (bn2): BatchNorm2d(64, eps=1e-05, momentum=0.1, affine=True, track_running_stats=True)\n",
      "      (conv3): Conv2d(64, 256, kernel_size=(1, 1), stride=(1, 1), bias=False)\n",
      "      (bn3): BatchNorm2d(256, eps=1e-05, momentum=0.1, affine=True, track_running_stats=True)\n",
      "      (relu): ReLU(inplace=True)\n",
      "    )\n",
      "  )\n",
      "  (layer2): Sequential(\n",
      "    (0): Bottleneck(\n",
      "      (conv1): Conv2d(256, 128, kernel_size=(1, 1), stride=(1, 1), bias=False)\n",
      "      (bn1): BatchNorm2d(128, eps=1e-05, momentum=0.1, affine=True, track_running_stats=True)\n",
      "      (conv2): Conv2d(128, 128, kernel_size=(3, 3), stride=(2, 2), padding=(1, 1), bias=False)\n",
      "      (bn2): BatchNorm2d(128, eps=1e-05, momentum=0.1, affine=True, track_running_stats=True)\n",
      "      (conv3): Conv2d(128, 512, kernel_size=(1, 1), stride=(1, 1), bias=False)\n",
      "      (bn3): BatchNorm2d(512, eps=1e-05, momentum=0.1, affine=True, track_running_stats=True)\n",
      "      (relu): ReLU(inplace=True)\n",
      "      (downsample): Sequential(\n",
      "        (0): Conv2d(256, 512, kernel_size=(1, 1), stride=(2, 2), bias=False)\n",
      "        (1): BatchNorm2d(512, eps=1e-05, momentum=0.1, affine=True, track_running_stats=True)\n",
      "      )\n",
      "    )\n",
      "    (1): Bottleneck(\n",
      "      (conv1): Conv2d(512, 128, kernel_size=(1, 1), stride=(1, 1), bias=False)\n",
      "      (bn1): BatchNorm2d(128, eps=1e-05, momentum=0.1, affine=True, track_running_stats=True)\n",
      "      (conv2): Conv2d(128, 128, kernel_size=(3, 3), stride=(1, 1), padding=(1, 1), bias=False)\n",
      "      (bn2): BatchNorm2d(128, eps=1e-05, momentum=0.1, affine=True, track_running_stats=True)\n",
      "      (conv3): Conv2d(128, 512, kernel_size=(1, 1), stride=(1, 1), bias=False)\n",
      "      (bn3): BatchNorm2d(512, eps=1e-05, momentum=0.1, affine=True, track_running_stats=True)\n",
      "      (relu): ReLU(inplace=True)\n",
      "    )\n",
      "    (2): Bottleneck(\n",
      "      (conv1): Conv2d(512, 128, kernel_size=(1, 1), stride=(1, 1), bias=False)\n",
      "      (bn1): BatchNorm2d(128, eps=1e-05, momentum=0.1, affine=True, track_running_stats=True)\n",
      "      (conv2): Conv2d(128, 128, kernel_size=(3, 3), stride=(1, 1), padding=(1, 1), bias=False)\n",
      "      (bn2): BatchNorm2d(128, eps=1e-05, momentum=0.1, affine=True, track_running_stats=True)\n",
      "      (conv3): Conv2d(128, 512, kernel_size=(1, 1), stride=(1, 1), bias=False)\n",
      "      (bn3): BatchNorm2d(512, eps=1e-05, momentum=0.1, affine=True, track_running_stats=True)\n",
      "      (relu): ReLU(inplace=True)\n",
      "    )\n",
      "    (3): Bottleneck(\n",
      "      (conv1): Conv2d(512, 128, kernel_size=(1, 1), stride=(1, 1), bias=False)\n",
      "      (bn1): BatchNorm2d(128, eps=1e-05, momentum=0.1, affine=True, track_running_stats=True)\n",
      "      (conv2): Conv2d(128, 128, kernel_size=(3, 3), stride=(1, 1), padding=(1, 1), bias=False)\n",
      "      (bn2): BatchNorm2d(128, eps=1e-05, momentum=0.1, affine=True, track_running_stats=True)\n",
      "      (conv3): Conv2d(128, 512, kernel_size=(1, 1), stride=(1, 1), bias=False)\n",
      "      (bn3): BatchNorm2d(512, eps=1e-05, momentum=0.1, affine=True, track_running_stats=True)\n",
      "      (relu): ReLU(inplace=True)\n",
      "    )\n",
      "  )\n",
      "  (layer3): Sequential(\n",
      "    (0): Bottleneck(\n",
      "      (conv1): Conv2d(512, 256, kernel_size=(1, 1), stride=(1, 1), bias=False)\n",
      "      (bn1): BatchNorm2d(256, eps=1e-05, momentum=0.1, affine=True, track_running_stats=True)\n",
      "      (conv2): Conv2d(256, 256, kernel_size=(3, 3), stride=(2, 2), padding=(1, 1), bias=False)\n",
      "      (bn2): BatchNorm2d(256, eps=1e-05, momentum=0.1, affine=True, track_running_stats=True)\n",
      "      (conv3): Conv2d(256, 1024, kernel_size=(1, 1), stride=(1, 1), bias=False)\n",
      "      (bn3): BatchNorm2d(1024, eps=1e-05, momentum=0.1, affine=True, track_running_stats=True)\n",
      "      (relu): ReLU(inplace=True)\n",
      "      (downsample): Sequential(\n",
      "        (0): Conv2d(512, 1024, kernel_size=(1, 1), stride=(2, 2), bias=False)\n",
      "        (1): BatchNorm2d(1024, eps=1e-05, momentum=0.1, affine=True, track_running_stats=True)\n",
      "      )\n",
      "    )\n",
      "    (1): Bottleneck(\n",
      "      (conv1): Conv2d(1024, 256, kernel_size=(1, 1), stride=(1, 1), bias=False)\n",
      "      (bn1): BatchNorm2d(256, eps=1e-05, momentum=0.1, affine=True, track_running_stats=True)\n",
      "      (conv2): Conv2d(256, 256, kernel_size=(3, 3), stride=(1, 1), padding=(1, 1), bias=False)\n",
      "      (bn2): BatchNorm2d(256, eps=1e-05, momentum=0.1, affine=True, track_running_stats=True)\n",
      "      (conv3): Conv2d(256, 1024, kernel_size=(1, 1), stride=(1, 1), bias=False)\n",
      "      (bn3): BatchNorm2d(1024, eps=1e-05, momentum=0.1, affine=True, track_running_stats=True)\n",
      "      (relu): ReLU(inplace=True)\n",
      "    )\n",
      "    (2): Bottleneck(\n",
      "      (conv1): Conv2d(1024, 256, kernel_size=(1, 1), stride=(1, 1), bias=False)\n",
      "      (bn1): BatchNorm2d(256, eps=1e-05, momentum=0.1, affine=True, track_running_stats=True)\n",
      "      (conv2): Conv2d(256, 256, kernel_size=(3, 3), stride=(1, 1), padding=(1, 1), bias=False)\n",
      "      (bn2): BatchNorm2d(256, eps=1e-05, momentum=0.1, affine=True, track_running_stats=True)\n",
      "      (conv3): Conv2d(256, 1024, kernel_size=(1, 1), stride=(1, 1), bias=False)\n",
      "      (bn3): BatchNorm2d(1024, eps=1e-05, momentum=0.1, affine=True, track_running_stats=True)\n",
      "      (relu): ReLU(inplace=True)\n",
      "    )\n",
      "    (3): Bottleneck(\n",
      "      (conv1): Conv2d(1024, 256, kernel_size=(1, 1), stride=(1, 1), bias=False)\n",
      "      (bn1): BatchNorm2d(256, eps=1e-05, momentum=0.1, affine=True, track_running_stats=True)\n",
      "      (conv2): Conv2d(256, 256, kernel_size=(3, 3), stride=(1, 1), padding=(1, 1), bias=False)\n",
      "      (bn2): BatchNorm2d(256, eps=1e-05, momentum=0.1, affine=True, track_running_stats=True)\n",
      "      (conv3): Conv2d(256, 1024, kernel_size=(1, 1), stride=(1, 1), bias=False)\n",
      "      (bn3): BatchNorm2d(1024, eps=1e-05, momentum=0.1, affine=True, track_running_stats=True)\n",
      "      (relu): ReLU(inplace=True)\n",
      "    )\n",
      "    (4): Bottleneck(\n",
      "      (conv1): Conv2d(1024, 256, kernel_size=(1, 1), stride=(1, 1), bias=False)\n",
      "      (bn1): BatchNorm2d(256, eps=1e-05, momentum=0.1, affine=True, track_running_stats=True)\n",
      "      (conv2): Conv2d(256, 256, kernel_size=(3, 3), stride=(1, 1), padding=(1, 1), bias=False)\n",
      "      (bn2): BatchNorm2d(256, eps=1e-05, momentum=0.1, affine=True, track_running_stats=True)\n",
      "      (conv3): Conv2d(256, 1024, kernel_size=(1, 1), stride=(1, 1), bias=False)\n",
      "      (bn3): BatchNorm2d(1024, eps=1e-05, momentum=0.1, affine=True, track_running_stats=True)\n",
      "      (relu): ReLU(inplace=True)\n",
      "    )\n",
      "    (5): Bottleneck(\n",
      "      (conv1): Conv2d(1024, 256, kernel_size=(1, 1), stride=(1, 1), bias=False)\n",
      "      (bn1): BatchNorm2d(256, eps=1e-05, momentum=0.1, affine=True, track_running_stats=True)\n",
      "      (conv2): Conv2d(256, 256, kernel_size=(3, 3), stride=(1, 1), padding=(1, 1), bias=False)\n",
      "      (bn2): BatchNorm2d(256, eps=1e-05, momentum=0.1, affine=True, track_running_stats=True)\n",
      "      (conv3): Conv2d(256, 1024, kernel_size=(1, 1), stride=(1, 1), bias=False)\n",
      "      (bn3): BatchNorm2d(1024, eps=1e-05, momentum=0.1, affine=True, track_running_stats=True)\n",
      "      (relu): ReLU(inplace=True)\n",
      "    )\n",
      "  )\n",
      "  (layer4): Sequential(\n",
      "    (0): Bottleneck(\n",
      "      (conv1): Conv2d(1024, 512, kernel_size=(1, 1), stride=(1, 1), bias=False)\n",
      "      (bn1): BatchNorm2d(512, eps=1e-05, momentum=0.1, affine=True, track_running_stats=True)\n",
      "      (conv2): Conv2d(512, 512, kernel_size=(3, 3), stride=(2, 2), padding=(1, 1), bias=False)\n",
      "      (bn2): BatchNorm2d(512, eps=1e-05, momentum=0.1, affine=True, track_running_stats=True)\n",
      "      (conv3): Conv2d(512, 2048, kernel_size=(1, 1), stride=(1, 1), bias=False)\n",
      "      (bn3): BatchNorm2d(2048, eps=1e-05, momentum=0.1, affine=True, track_running_stats=True)\n",
      "      (relu): ReLU(inplace=True)\n",
      "      (downsample): Sequential(\n",
      "        (0): Conv2d(1024, 2048, kernel_size=(1, 1), stride=(2, 2), bias=False)\n",
      "        (1): BatchNorm2d(2048, eps=1e-05, momentum=0.1, affine=True, track_running_stats=True)\n",
      "      )\n",
      "    )\n",
      "    (1): Bottleneck(\n",
      "      (conv1): Conv2d(2048, 512, kernel_size=(1, 1), stride=(1, 1), bias=False)\n",
      "      (bn1): BatchNorm2d(512, eps=1e-05, momentum=0.1, affine=True, track_running_stats=True)\n",
      "      (conv2): Conv2d(512, 512, kernel_size=(3, 3), stride=(1, 1), padding=(1, 1), bias=False)\n",
      "      (bn2): BatchNorm2d(512, eps=1e-05, momentum=0.1, affine=True, track_running_stats=True)\n",
      "      (conv3): Conv2d(512, 2048, kernel_size=(1, 1), stride=(1, 1), bias=False)\n",
      "      (bn3): BatchNorm2d(2048, eps=1e-05, momentum=0.1, affine=True, track_running_stats=True)\n",
      "      (relu): ReLU(inplace=True)\n",
      "    )\n",
      "    (2): Bottleneck(\n",
      "      (conv1): Conv2d(2048, 512, kernel_size=(1, 1), stride=(1, 1), bias=False)\n",
      "      (bn1): BatchNorm2d(512, eps=1e-05, momentum=0.1, affine=True, track_running_stats=True)\n",
      "      (conv2): Conv2d(512, 512, kernel_size=(3, 3), stride=(1, 1), padding=(1, 1), bias=False)\n",
      "      (bn2): BatchNorm2d(512, eps=1e-05, momentum=0.1, affine=True, track_running_stats=True)\n",
      "      (conv3): Conv2d(512, 2048, kernel_size=(1, 1), stride=(1, 1), bias=False)\n",
      "      (bn3): BatchNorm2d(2048, eps=1e-05, momentum=0.1, affine=True, track_running_stats=True)\n",
      "      (relu): ReLU(inplace=True)\n",
      "    )\n",
      "  )\n",
      "  (avgpool): AdaptiveAvgPool2d(output_size=(1, 1))\n",
      "  (fc): Linear(in_features=2048, out_features=1000, bias=True)\n",
      ")\n"
     ]
    }
   ],
   "source": [
    "import warnings\n",
    "warnings.filterwarnings('ignore')\n",
    "torch.cuda.manual_seed(42)\n",
    "torch.manual_seed(42)\n",
    "model = models.resnet50(pretrained=True).to(device)\n",
    "print(model)\n",
    "for para in model.parameters():\n",
    "    para.requires_grad = False\n",
    "# frezing every layer apart from the first and last\n",
    "num_feats = model.fc.in_features\n",
    "model.conv1 = nn.Conv2d(3, 64, kernel_size=(7, 7), stride=(2, 2), padding=(3, 3), bias=False)\n",
    "model.fc = nn.Linear(in_features=num_feats, out_features=2, bias=True) # we only have three classes"
   ]
  },
  {
   "cell_type": "code",
   "execution_count": 9,
   "id": "d04d1057",
   "metadata": {},
   "outputs": [
    {
     "data": {
      "text/plain": [
       "Linear(in_features=2048, out_features=2, bias=True)"
      ]
     },
     "execution_count": 9,
     "metadata": {},
     "output_type": "execute_result"
    }
   ],
   "source": [
    "# let's check the last layer\n",
    "model.to(device)\n",
    "model.fc"
   ]
  },
  {
   "cell_type": "markdown",
   "id": "8b55a941",
   "metadata": {},
   "source": [
    "## Loss function and optim function"
   ]
  },
  {
   "cell_type": "code",
   "execution_count": 10,
   "id": "5f11267d",
   "metadata": {},
   "outputs": [],
   "source": [
    "optim = torch.optim.Adam(model.parameters(),lr=0.001)\n",
    "loss_fn = nn.CrossEntropyLoss()\n",
    "# nn.BCEWithLogitsLoss()\n",
    "step = torch.optim.lr_scheduler.StepLR(optim,step_size=10,gamma=0.1)"
   ]
  },
  {
   "cell_type": "markdown",
   "id": "88d4d17e",
   "metadata": {},
   "source": [
    "## train test functions"
   ]
  },
  {
   "cell_type": "code",
   "execution_count": 11,
   "id": "9a379c99",
   "metadata": {},
   "outputs": [],
   "source": [
    "def test_with_ac(test_labels,model):\n",
    "    y_proba,y_pred,y_true = test_model(test_labels,model)\n",
    "    cnf_matrix=confusion_matrix(y_true,y_pred)\n",
    "    recall = cnf_matrix[1,1]/(cnf_matrix[1,1]+cnf_matrix[1,0])\n",
    "    ac = (cnf_matrix[1,1,] + cnf_matrix[0,0]) / (cnf_matrix[1,1,] + cnf_matrix[0,0] + cnf_matrix[0,1] + cnf_matrix[1,0])\n",
    "    pc = cnf_matrix[1,1,]/(cnf_matrix[1,1,]+cnf_matrix[0,1])\n",
    "    false_pos_rate = cnf_matrix[0,1] / (cnf_matrix[0,1] + cnf_matrix[0,0])\n",
    "    f1_score = (2*recall * pc) /( recall + pc)\n",
    "    \n",
    "\n",
    "    print(classification_report(y_true, y_pred, digits=5))\n",
    "    return recall,pc,ac,f1_score,false_pos_rate"
   ]
  },
  {
   "cell_type": "code",
   "execution_count": 12,
   "id": "21483752",
   "metadata": {},
   "outputs": [],
   "source": [
    "def Train_test_on_model(epochs,train_data_load,test_data_load,model):\n",
    "    train_loss = []\n",
    "    for epoch in range(epochs):\n",
    "        print(f\"Epoch: {epoch}\\n-------\")\n",
    "        temp =0\n",
    "        \n",
    "        for batch, (X, y) in enumerate(train_data_load):\n",
    "                model.train(True)\n",
    "                X1,y1 = X.to(device),y.to(device)\n",
    "                y_pred = model(X1).squeeze()\n",
    "                loss = loss_fn(y_pred, y1)\n",
    "                temp += loss\n",
    "                optim.zero_grad()\n",
    "                loss.backward()\n",
    "                optim.step()\n",
    "        temp = 10   \n",
    "        temp /= len(train_data_load)\n",
    "        recall,pc,ac,f1_score,false_pos_rate = test_with_ac(test_data_load,model)\n",
    "        print(f\"\\nTrain loss: {temp:.5f} | Test f1: {f1_score:.4f}, Test acc: {ac:.4f}, Test PC {pc:.4f}\\n\")"
   ]
  },
  {
   "cell_type": "code",
   "execution_count": 13,
   "id": "3fc3f58f",
   "metadata": {},
   "outputs": [],
   "source": [
    "def test_model(test_data_load,model):\n",
    "    y_pred = []\n",
    "    y_true = []\n",
    "    y_proba = []\n",
    "    model.eval()\n",
    "    with torch.inference_mode():\n",
    "        for batch, (X,y) in enumerate(test_data_load):\n",
    "                X1,y1 = X.to(device),y.to(device)\n",
    "#                 torch.softmax(y_pred_prob,dim=1).argmax(dim=1)\n",
    "                y_pred_prob = model(X1).squeeze()\n",
    "                temp = torch.softmax(y_pred_prob,dim=1).argmax(dim=1)\n",
    "                y_pred.extend(temp.to('cpu'))\n",
    "                y_true.extend(y1.to('cpu'))\n",
    "                y_proba.extend(y_pred_prob)\n",
    "    return y_proba,y_pred,y_true"
   ]
  },
  {
   "cell_type": "code",
   "execution_count": 14,
   "id": "ad596a34",
   "metadata": {},
   "outputs": [],
   "source": [
    "def model_val(labels_test,pred, pred_proba):\n",
    "    cnf_matrix=confusion_matrix(labels_test,pred)\n",
    "#     print(\"AUC\",roc_auc_score(labels_test, pred_proba))\n",
    "    print(\"the recall for this model is :\",cnf_matrix[1,1]/(cnf_matrix[1,1]+cnf_matrix[1,0]))\n",
    "    fig= plt.figure(figsize=(6,3))# to plot the graph\n",
    "    print(cnf_matrix)\n",
    "    print(\"TP\",cnf_matrix[1,1,]) # no of fraud transaction which are predicted fraud\n",
    "    print(\"TN\",cnf_matrix[0,0]) # no. of normal transaction which are predited normal\n",
    "    print(\"FP\",cnf_matrix[0,1]) # no of normal transaction which are predicted fraud\n",
    "    print(\"FN\",cnf_matrix[1,0]) # no of fraud Transaction which are predicted normal\n",
    "    sns.heatmap(cnf_matrix,cmap=\"coolwarm_r\",annot=True,linewidths=0.5)\n",
    "    plt.title(\"Confusion_matrix\")\n",
    "    plt.xlabel(\"Predicted_class\")\n",
    "    plt.ylabel(\"Real class\")\n",
    "    plt.show()\n",
    "    print(\"\\n----------Classification Report------------------------------------\")\n",
    "    print(classification_report(labels_test,pred, digits=5))\n",
    "    print(classification_report_imbalanced(labels_test, pred, digits=5))"
   ]
  },
  {
   "cell_type": "code",
   "execution_count": 15,
   "id": "9ab48791",
   "metadata": {
    "scrolled": false
   },
   "outputs": [
    {
     "name": "stdout",
     "output_type": "stream",
     "text": [
      "Epoch: 0\n",
      "-------\n",
      "              precision    recall  f1-score   support\n",
      "\n",
      "           0    0.79686   0.84774   0.82151      1018\n",
      "           1    0.82797   0.77226   0.79914       966\n",
      "\n",
      "    accuracy                        0.81099      1984\n",
      "   macro avg    0.81241   0.81000   0.81033      1984\n",
      "weighted avg    0.81201   0.81099   0.81062      1984\n",
      "\n",
      "\n",
      "Train loss: 0.13889 | Test f1: 0.7991, Test acc: 0.8110, Test PC 0.8280\n",
      "\n",
      "Epoch: 1\n",
      "-------\n",
      "              precision    recall  f1-score   support\n",
      "\n",
      "           0    0.70575   0.92829   0.80187      1018\n",
      "           1    0.88682   0.59213   0.71012       966\n",
      "\n",
      "    accuracy                        0.76462      1984\n",
      "   macro avg    0.79629   0.76021   0.75599      1984\n",
      "weighted avg    0.79391   0.76462   0.75719      1984\n",
      "\n",
      "\n",
      "Train loss: 0.13889 | Test f1: 0.7101, Test acc: 0.7646, Test PC 0.8868\n",
      "\n",
      "Epoch: 2\n",
      "-------\n",
      "              precision    recall  f1-score   support\n",
      "\n",
      "           0    0.93144   0.54715   0.68936      1018\n",
      "           1    0.66739   0.95756   0.78656       966\n",
      "\n",
      "    accuracy                        0.74698      1984\n",
      "   macro avg    0.79941   0.75235   0.73796      1984\n",
      "weighted avg    0.80287   0.74698   0.73669      1984\n",
      "\n",
      "\n",
      "Train loss: 0.13889 | Test f1: 0.7866, Test acc: 0.7470, Test PC 0.6674\n",
      "\n",
      "Epoch: 3\n",
      "-------\n",
      "              precision    recall  f1-score   support\n",
      "\n",
      "           0    0.85000   0.83497   0.84242      1018\n",
      "           1    0.82927   0.84472   0.83692       966\n",
      "\n",
      "    accuracy                        0.83972      1984\n",
      "   macro avg    0.83963   0.83985   0.83967      1984\n",
      "weighted avg    0.83991   0.83972   0.83974      1984\n",
      "\n",
      "\n",
      "Train loss: 0.13889 | Test f1: 0.8369, Test acc: 0.8397, Test PC 0.8293\n",
      "\n",
      "Epoch: 4\n",
      "-------\n",
      "              precision    recall  f1-score   support\n",
      "\n",
      "           0    0.73306   0.88212   0.80071      1018\n",
      "           1    0.84190   0.66149   0.74087       966\n",
      "\n",
      "    accuracy                        0.77470      1984\n",
      "   macro avg    0.78748   0.77181   0.77079      1984\n",
      "weighted avg    0.78605   0.77470   0.77158      1984\n",
      "\n",
      "\n",
      "Train loss: 0.13889 | Test f1: 0.7409, Test acc: 0.7747, Test PC 0.8419\n",
      "\n"
     ]
    }
   ],
   "source": [
    "# Train_on_model(100,train_data_load) #10 + 5 +3 +3 +3+3 +3 +5 // 19_5 + 3 + 3\n",
    "# Train_on_model(1,val_data_load) 10 epoches\n",
    "Train_test_on_model(5,train_data_load2,test_data_load2,model) # 6 + 3 + 3 + 3"
   ]
  },
  {
   "cell_type": "code",
   "execution_count": 16,
   "id": "734dbffb",
   "metadata": {},
   "outputs": [],
   "source": [
    "for para in model.parameters(): # unfrezing the rest and training for 4 epoch\n",
    "    para.requires_grad = True"
   ]
  },
  {
   "cell_type": "code",
   "execution_count": 18,
   "id": "5a98d2e8",
   "metadata": {},
   "outputs": [],
   "source": [
    "optim = torch.optim.Adam(model.parameters(),lr=0.0001)"
   ]
  },
  {
   "cell_type": "code",
   "execution_count": 19,
   "id": "9f1dd0a5",
   "metadata": {},
   "outputs": [
    {
     "name": "stdout",
     "output_type": "stream",
     "text": [
      "Epoch: 0\n",
      "-------\n",
      "              precision    recall  f1-score   support\n",
      "\n",
      "           0    0.96526   0.90079   0.93191      1018\n",
      "           1    0.90232   0.96584   0.93300       966\n",
      "\n",
      "    accuracy                        0.93246      1984\n",
      "   macro avg    0.93379   0.93331   0.93246      1984\n",
      "weighted avg    0.93462   0.93246   0.93244      1984\n",
      "\n",
      "\n",
      "Train loss: 0.13889 | Test f1: 0.9330, Test acc: 0.9325, Test PC 0.9023\n",
      "\n",
      "Epoch: 1\n",
      "-------\n",
      "              precision    recall  f1-score   support\n",
      "\n",
      "           0    0.96812   0.89489   0.93007      1018\n",
      "           1    0.89741   0.96894   0.93181       966\n",
      "\n",
      "    accuracy                        0.93095      1984\n",
      "   macro avg    0.93277   0.93192   0.93094      1984\n",
      "weighted avg    0.93369   0.93095   0.93091      1984\n",
      "\n",
      "\n",
      "Train loss: 0.13889 | Test f1: 0.9318, Test acc: 0.9309, Test PC 0.8974\n",
      "\n",
      "Epoch: 2\n",
      "-------\n",
      "              precision    recall  f1-score   support\n",
      "\n",
      "           0    0.97884   0.90864   0.94244      1018\n",
      "           1    0.91049   0.97930   0.94364       966\n",
      "\n",
      "    accuracy                        0.94304      1984\n",
      "   macro avg    0.94466   0.94397   0.94304      1984\n",
      "weighted avg    0.94556   0.94304   0.94302      1984\n",
      "\n",
      "\n",
      "Train loss: 0.13889 | Test f1: 0.9436, Test acc: 0.9430, Test PC 0.9105\n",
      "\n",
      "Epoch: 3\n",
      "-------\n",
      "              precision    recall  f1-score   support\n",
      "\n",
      "           0    0.97036   0.96464   0.96749      1018\n",
      "           1    0.96296   0.96894   0.96594       966\n",
      "\n",
      "    accuracy                        0.96673      1984\n",
      "   macro avg    0.96666   0.96679   0.96672      1984\n",
      "weighted avg    0.96676   0.96673   0.96674      1984\n",
      "\n",
      "\n",
      "Train loss: 0.13889 | Test f1: 0.9659, Test acc: 0.9667, Test PC 0.9630\n",
      "\n"
     ]
    }
   ],
   "source": [
    "Train_test_on_model(4,train_data_load2,test_data_load2,model) # 4"
   ]
  },
  {
   "cell_type": "code",
   "execution_count": 103,
   "id": "190c3bf0",
   "metadata": {},
   "outputs": [
    {
     "name": "stdout",
     "output_type": "stream",
     "text": [
      "Epoch: 0\n",
      "-------\n",
      "              precision    recall  f1-score   support\n",
      "\n",
      "           0    0.96000   0.94303   0.95144      1018\n",
      "           1    0.94106   0.95859   0.94974       966\n",
      "\n",
      "    accuracy                        0.95060      1984\n",
      "   macro avg    0.95053   0.95081   0.95059      1984\n",
      "weighted avg    0.95078   0.95060   0.95061      1984\n",
      "\n",
      "\n",
      "Train loss: 0.17544 | Test f1: 0.9497, Test acc: 0.9506, Test PC 0.9411\n",
      "\n",
      "Epoch: 1\n",
      "-------\n",
      "              precision    recall  f1-score   support\n",
      "\n",
      "           0    0.97707   0.87917   0.92554      1018\n",
      "           1    0.88483   0.97826   0.92920       966\n",
      "\n",
      "    accuracy                        0.92742      1984\n",
      "   macro avg    0.93095   0.92872   0.92737      1984\n",
      "weighted avg    0.93216   0.92742   0.92733      1984\n",
      "\n",
      "\n",
      "Train loss: 0.17544 | Test f1: 0.9292, Test acc: 0.9274, Test PC 0.8848\n",
      "\n",
      "Epoch: 2\n",
      "-------\n",
      "              precision    recall  f1-score   support\n",
      "\n",
      "           0    0.96657   0.93713   0.95162      1018\n",
      "           1    0.93581   0.96584   0.95059       966\n",
      "\n",
      "    accuracy                        0.95111      1984\n",
      "   macro avg    0.95119   0.95149   0.95110      1984\n",
      "weighted avg    0.95159   0.95111   0.95112      1984\n",
      "\n",
      "\n",
      "Train loss: 0.17544 | Test f1: 0.9506, Test acc: 0.9511, Test PC 0.9358\n",
      "\n"
     ]
    }
   ],
   "source": [
    "Train_test_on_model(3,train_data_load2,test_data_load2,model) #"
   ]
  },
  {
   "cell_type": "code",
   "execution_count": 20,
   "id": "496a819a",
   "metadata": {},
   "outputs": [],
   "source": [
    "PATH = 'model6-5firsttwo_4all_'\n",
    "\n",
    "\n"
   ]
  },
  {
   "cell_type": "code",
   "execution_count": 21,
   "id": "f7652722",
   "metadata": {},
   "outputs": [],
   "source": [
    "torch.save(model.state_dict(), PATH)"
   ]
  },
  {
   "cell_type": "code",
   "execution_count": null,
   "id": "f2af912f",
   "metadata": {},
   "outputs": [],
   "source": [
    "model.load_state_dict(torch.load(PATH))\n",
    "model.to(device)"
   ]
  },
  {
   "cell_type": "code",
   "execution_count": 22,
   "id": "b95f301e",
   "metadata": {},
   "outputs": [
    {
     "data": {
      "text/plain": [
       "True"
      ]
     },
     "execution_count": 22,
     "metadata": {},
     "output_type": "execute_result"
    }
   ],
   "source": [
    "cap = cv2.VideoCapture(0)\n",
    "cap.set(cv2.CAP_PROP_FRAME_WIDTH, 1200)\n",
    "cap.set(cv2.CAP_PROP_FRAME_HEIGHT, 1200)\n",
    "cap.set(cv2.CAP_PROP_FPS, 30)"
   ]
  },
  {
   "cell_type": "code",
   "execution_count": 26,
   "id": "ab6721d9",
   "metadata": {},
   "outputs": [],
   "source": [
    "cap.release()\n",
    "cv2.destroyAllWindows()"
   ]
  },
  {
   "cell_type": "code",
   "execution_count": 23,
   "id": "116f8d7a",
   "metadata": {},
   "outputs": [],
   "source": [
    "def test_cam(img):\n",
    "    model.eval()\n",
    "    with torch.inference_mode():\n",
    "        y_pred_prob = model(img.to(device)).squeeze()\n",
    "        temp = torch.softmax(y_pred_prob,dim=0).argmax(dim=0)\n",
    "        y_pred = temp.to('cpu')\n",
    "#         torch.round(torch.sigmoid(y_pred_prob.to('cpu')))\n",
    "\n",
    "#         print(torch.softmax(y_pred_prob,dim=0).argmax(dim=0))\n",
    "        a = torch.softmax(y_pred_prob,dim=0)\n",
    "        a = torch.max(a, dim=0).values\n",
    "#         print(a)\n",
    "    return y_pred, a.to('cpu')\n",
    "# y_pred_prob\n"
   ]
  },
  {
   "cell_type": "code",
   "execution_count": 24,
   "id": "f7e938b8",
   "metadata": {},
   "outputs": [],
   "source": [
    "def pre_process(img):\n",
    "    transform = transforms.Compose([\n",
    "    transforms.ToTensor(),\n",
    "    transforms.Resize(size=(224, 224)),\n",
    "\n",
    "    ])\n",
    "    \n",
    "    img = transform(img)\n",
    "    img = img.to(dtype=torch.float)\n",
    "    img = img.unsqueeze(0)\n",
    "    return img\n",
    "    "
   ]
  },
  {
   "cell_type": "code",
   "execution_count": null,
   "id": "9af8742c",
   "metadata": {},
   "outputs": [],
   "source": [
    "seconds = 0\n",
    "label =\" \"\n",
    "ret, image = cap.read()\n",
    "face_model = cv2.CascadeClassifier(cv2.data.haarcascades + 'haarcascade_frontalface_default.xml')\n",
    "rect = cv2.rectangle(image,(1,1),(1,1), (0,255,0), 1)\n",
    "cv2.putText(image, 'mask',(1,1-10), cv2.FONT_HERSHEY_SIMPLEX, 1, (0,255,0), 2)\n",
    "y_pred,prob = None, None\n",
    "color = (0,0,0)\n",
    "while True:\n",
    "    ret, image = cap.read()\n",
    "#     rect = cv2.rectangle(image,(1,1),(1,1), (0,255,0), 1)\n",
    "\n",
    "    cv2.imshow('img', image)\n",
    "    image_gray = cv2.cvtColor(image, cv2.COLOR_BGR2GRAY)\n",
    "    face = face_model.detectMultiScale(image_gray, 1.1, 4)\n",
    "#     print(image.shape)\n",
    "    if seconds == 1:\n",
    "        \n",
    "        for (x,y,w,h) in face:\n",
    "#         center = (x+w//2, y+h//2)\n",
    "            face1 = face\n",
    "            rect = cv2.rectangle(image,(x,y),(x+w+10,y+h+10), color, 1)\n",
    "\n",
    "            face1 = image[y: y+h+15, x: x+w+15]\n",
    "#             img = cv2.cvtColor(face1, cv2.COLOR_GRAY2RGB)\n",
    "    #         cv2.imshow('img', rect)\n",
    "            \n",
    "            img = pre_process(face1)\n",
    "    #         print(img.shape)\n",
    "            y_pred,prob = test_cam(img)\n",
    "    #         print(img.shape)\n",
    "#             y_pred,prob = test_cam(img)\n",
    "            cv2.putText(image, label,(x,y-10), cv2.FONT_HERSHEY_SIMPLEX, 1, color, 2)\n",
    "            \n",
    "#         print(y_pred)\n",
    "#         if y_pred == 0:\n",
    "#             print(y_pred)\n",
    "        if y_pred == 1:\n",
    "            \n",
    "            label = 'Masked : '+ str((np.array(prob)*100))\n",
    "            color = (0,255,0)\n",
    "        elif y_pred == 3:\n",
    "            label = 'incorrect : '+str((np.array(prob)*100))\n",
    "            color = (255,0,0)\n",
    "        elif y_pred == 0:\n",
    "            label = 'No mask : '+str((np.array(prob)*100))\n",
    "            color = (0,0,255)\n",
    "        \n",
    "        \n",
    "        seconds = 0\n",
    "    else:\n",
    "        seconds +=1\n",
    "#     print(label)\n",
    "    \n",
    "    cv2.imshow('img', rect)\n",
    "    \n",
    "    \n",
    "#     image = cv2.rectangle(image,(100,150),(152,250), (250,0,0), 2)\n",
    "\n",
    "    \n",
    "    if cv2.waitKey(1):\n",
    "        pass\n",
    "# cap.release()\n",
    "# cv2.destroyAllWindows()"
   ]
  },
  {
   "cell_type": "code",
   "execution_count": null,
   "id": "d2c39ec0",
   "metadata": {},
   "outputs": [],
   "source": []
  }
 ],
 "metadata": {
  "kernelspec": {
   "display_name": "Python 3 (ipykernel)",
   "language": "python",
   "name": "python3"
  },
  "language_info": {
   "codemirror_mode": {
    "name": "ipython",
    "version": 3
   },
   "file_extension": ".py",
   "mimetype": "text/x-python",
   "name": "python",
   "nbconvert_exporter": "python",
   "pygments_lexer": "ipython3",
   "version": "3.11.1"
  }
 },
 "nbformat": 4,
 "nbformat_minor": 5
}
